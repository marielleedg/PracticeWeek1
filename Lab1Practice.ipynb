{
  "nbformat": 4,
  "nbformat_minor": 0,
  "metadata": {
    "colab": {
      "name": "Lab1Practice.ipynb",
      "provenance": [],
      "collapsed_sections": [],
      "authorship_tag": "ABX9TyNn1alt4QDG62MIpEexBuqt",
      "include_colab_link": true
    },
    "kernelspec": {
      "name": "python3",
      "display_name": "Python 3"
    }
  },
  "cells": [
    {
      "cell_type": "markdown",
      "metadata": {
        "id": "view-in-github",
        "colab_type": "text"
      },
      "source": [
        "<a href=\"https://colab.research.google.com/github/marielleedg/PracticeWeek1/blob/master/Lab1Practice.ipynb\" target=\"_parent\"><img src=\"https://colab.research.google.com/assets/colab-badge.svg\" alt=\"Open In Colab\"/></a>"
      ]
    },
    {
      "cell_type": "markdown",
      "metadata": {
        "id": "W_RUAPgrvDSY",
        "colab_type": "text"
      },
      "source": [
        "## Do you like using Jupyter notebooks?\n"
      ]
    },
    {
      "cell_type": "markdown",
      "metadata": {
        "id": "1KLlXz2rvMVH",
        "colab_type": "text"
      },
      "source": [
        "### Answer here\n"
      ]
    },
    {
      "cell_type": "markdown",
      "metadata": {
        "id": "20qS-TtVvcLD",
        "colab_type": "text"
      },
      "source": [
        "## What do you want to learn more about in Jupyter Notebooks?"
      ]
    },
    {
      "cell_type": "markdown",
      "metadata": {
        "id": "ln85gZy6vlCs",
        "colab_type": "text"
      },
      "source": [
        "### Answer here\n"
      ]
    },
    {
      "cell_type": "markdown",
      "metadata": {
        "id": "MQejh5k2yP-f",
        "colab_type": "text"
      },
      "source": [
        "![Beach Photo](https://raw.githubusercontent.com/marielleedg/PracticeWeek1/master/images/IMG_1419.JPG)"
      ]
    }
  ]
}